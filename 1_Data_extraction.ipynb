{
 "cells": [
  {
   "cell_type": "markdown",
   "id": "trained-interpretation",
   "metadata": {},
   "source": [
    "## JSTOR Constellate\n",
    "\n",
    "**Step 1: Dropping n-grams of the JSTOR file**\n",
    "\n",
    "Script for removing the n-grams from articles exported from JSTOR Constellate (new version of data).\n",
    "It opens the JSON-Lines file for each period that contains within it the articles. After processing, saves each article as a file in a general folder.\n"
   ]
  },
  {
   "cell_type": "code",
   "execution_count": 1,
   "id": "specialized-simple",
   "metadata": {},
   "outputs": [],
   "source": [
    "import pandas as pd\n",
    "import numpy as np\n",
    "import json\n",
    "import os "
   ]
  },
  {
   "cell_type": "code",
   "execution_count": 2,
   "id": "african-story",
   "metadata": {},
   "outputs": [
    {
     "data": {
      "text/plain": [
       "'/Users/carolinachru/Documents/LT/M498_Cap/data'"
      ]
     },
     "execution_count": 2,
     "metadata": {},
     "output_type": "execute_result"
    }
   ],
   "source": [
    "os.getcwd()"
   ]
  },
  {
   "cell_type": "code",
   "execution_count": 5,
   "id": "incredible-repeat",
   "metadata": {},
   "outputs": [
    {
     "data": {
      "text/plain": [
       "['econ_2000-2002.jsonl',\n",
       " 'econ_2012-2013.jsonl',\n",
       " 'econ_2014-2015.jsonl',\n",
       " 'econ_2008-2011.jsonl',\n",
       " 'econ_2016-2017.jsonl',\n",
       " 'econ_2003-2007.jsonl',\n",
       " 'econ_2018-2020.jsonl']"
      ]
     },
     "execution_count": 5,
     "metadata": {},
     "output_type": "execute_result"
    }
   ],
   "source": [
    "# Obtain all files in the path\n",
    "list_files = os.listdir('/Users/carolinachru/Documents/LT/M498_Cap/data/jstor_constellate/all')\n",
    "list_files\n",
    "\n",
    "# If UnicodeDecodeError check if we have file .DS_store\n",
    "# For dropping:\n",
    "# cd [in past path], then find . -name '.DS_Store' -type f -delete"
   ]
  },
  {
   "cell_type": "code",
   "execution_count": 6,
   "id": "registered-unemployment",
   "metadata": {},
   "outputs": [
    {
     "name": "stdout",
     "output_type": "stream",
     "text": [
      "Length of econ_2000-2002.jsonl is 24209\n",
      "Length of econ_2012-2013.jsonl is 25135\n",
      "Length of econ_2014-2015.jsonl is 24848\n",
      "Length of econ_2008-2011.jsonl is 45082\n",
      "Length of econ_2016-2017.jsonl is 21254\n",
      "Length of econ_2003-2007.jsonl is 45015\n",
      "Length of econ_2018-2020.jsonl is 22081\n"
     ]
    }
   ],
   "source": [
    "for file in list_files:\n",
    "    path = '/Users/carolinachru/Documents/LT/M498_Cap/data/jstor_constellate/' # Path to all files\n",
    "    main_file = path + 'all/' + file\n",
    "    \n",
    "    # Open file\n",
    "    with open(main_file) as f:\n",
    "        data0 = [json.loads(line) for line in f]\n",
    "        \n",
    "    print('Length of', file, 'is', len(data0))\n",
    "    \n",
    "    # Remove n-grams\n",
    "    data = data0[:]\n",
    "    for art in data:\n",
    "        art.pop('bigramCount', None)\n",
    "        art.pop('trigramCount', None)\n",
    "        art.pop('unigramCount', None)\n",
    "    \n",
    "    # New name\n",
    "    num = 1\n",
    "    for art in data:  \n",
    "        \n",
    "        # Save file by file in folder\n",
    "        num_str = str(num)\n",
    "        name_temp = path + '/all_nograms/' + file + '_' + num_str + '.json'\n",
    "        \n",
    "        with open(name_temp, 'w') as fp:\n",
    "            json.dump(art, fp)\n",
    "        \n",
    "        num += 1\n",
    "        "
   ]
  },
  {
   "cell_type": "code",
   "execution_count": null,
   "id": "employed-bibliography",
   "metadata": {},
   "outputs": [],
   "source": []
  }
 ],
 "metadata": {
  "kernelspec": {
   "display_name": "Python 3",
   "language": "python",
   "name": "python3"
  },
  "language_info": {
   "codemirror_mode": {
    "name": "ipython",
    "version": 3
   },
   "file_extension": ".py",
   "mimetype": "text/x-python",
   "name": "python",
   "nbconvert_exporter": "python",
   "pygments_lexer": "ipython3",
   "version": "3.8.5"
  }
 },
 "nbformat": 4,
 "nbformat_minor": 5
}
