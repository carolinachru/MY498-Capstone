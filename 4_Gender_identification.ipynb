{
 "cells": [
  {
   "cell_type": "markdown",
   "id": "healthy-ghost",
   "metadata": {},
   "source": [
    "## JSTOR Constellate\n",
    "\n",
    "**Step 4: Identifying gender from first names**\n",
    "\n",
    "Script for identifying gender from first names. Uses the csv file created previously which contains first names for each author.\n"
   ]
  },
  {
   "cell_type": "code",
   "execution_count": 1,
   "id": "actual-submission",
   "metadata": {},
   "outputs": [],
   "source": [
    "import pandas as pd\n",
    "import numpy as np\n",
    "import json\n",
    "import os \n",
    "import csv"
   ]
  },
  {
   "cell_type": "code",
   "execution_count": 2,
   "id": "domestic-bride",
   "metadata": {},
   "outputs": [],
   "source": [
    "os.getcwd()\n",
    "path = '/Users/carolinachru/Documents/LT/M498_Cap/data/'\n",
    "os.chdir(path)"
   ]
  },
  {
   "cell_type": "code",
   "execution_count": 3,
   "id": "distributed-nevada",
   "metadata": {},
   "outputs": [],
   "source": [
    "# Package 1: gender\n",
    "import gender"
   ]
  },
  {
   "cell_type": "code",
   "execution_count": 4,
   "id": "caroline-triangle",
   "metadata": {},
   "outputs": [
    {
     "data": {
      "text/plain": [
       "Person(title=None, first_name='anne', last_name='john', email=None, gender='f')"
      ]
     },
     "execution_count": 4,
     "metadata": {},
     "output_type": "execute_result"
    }
   ],
   "source": [
    "gd = gender.GenderDetector()\n",
    "gd.get_gender('Anne John')"
   ]
  },
  {
   "cell_type": "code",
   "execution_count": 5,
   "id": "ultimate-amendment",
   "metadata": {},
   "outputs": [
    {
     "data": {
      "text/plain": [
       "'f'"
      ]
     },
     "execution_count": 5,
     "metadata": {},
     "output_type": "execute_result"
    }
   ],
   "source": [
    "p1 = gd.get_gender('Andrea').gender # Saving\n",
    "p1"
   ]
  },
  {
   "cell_type": "code",
   "execution_count": 6,
   "id": "three-vitamin",
   "metadata": {},
   "outputs": [],
   "source": [
    "# Package 2: genderComputer\n",
    "from genderComputer.genderComputer import GenderComputer"
   ]
  },
  {
   "cell_type": "code",
   "execution_count": 7,
   "id": "preceding-jumping",
   "metadata": {},
   "outputs": [
    {
     "name": "stdout",
     "output_type": "stream",
     "text": [
      "Loaded dictionary from /Users/carolinachru/Documents/LT/M498_Cap/data/genderComputer/nameLists/gender.dict\n",
      "Finished initialization\n",
      "female\n"
     ]
    }
   ],
   "source": [
    "gc = GenderComputer()\n",
    "print(gc.resolveGender('Anne John', 'None'))"
   ]
  },
  {
   "cell_type": "code",
   "execution_count": 8,
   "id": "effective-genre",
   "metadata": {},
   "outputs": [
    {
     "data": {
      "text/plain": [
       "'male'"
      ]
     },
     "execution_count": 8,
     "metadata": {},
     "output_type": "execute_result"
    }
   ],
   "source": [
    "p2 = gc.resolveGender('Andrea Ferrari', 'Italy') # Saving\n",
    "p2"
   ]
  },
  {
   "cell_type": "code",
   "execution_count": 9,
   "id": "possible-evening",
   "metadata": {},
   "outputs": [],
   "source": [
    "os.getcwd()\n",
    "path = '/Users/carolinachru/Documents/LT/M498_Cap/data/jstor_constellate/final/'\n",
    "os.chdir(path)"
   ]
  },
  {
   "cell_type": "markdown",
   "id": "republican-verse",
   "metadata": {},
   "source": [
    "### 1. Open files"
   ]
  },
  {
   "cell_type": "code",
   "execution_count": 10,
   "id": "determined-pottery",
   "metadata": {},
   "outputs": [],
   "source": [
    "# Open firstname's file with base python (use this)\n",
    "with open('all_authors_firstname.csv', newline = '') as file:\n",
    "    reader = csv.reader(file)\n",
    "    data_firstn = list(reader)"
   ]
  },
  {
   "cell_type": "code",
   "execution_count": 11,
   "id": "fifty-preparation",
   "metadata": {},
   "outputs": [
    {
     "data": {
      "text/plain": [
       "['',\n",
       " 'data_authors...1.',\n",
       " 'creator_1',\n",
       " 'creator_2',\n",
       " 'creator_3',\n",
       " 'creator_4',\n",
       " 'creator_5',\n",
       " 'creator_6',\n",
       " 'creator_7',\n",
       " 'creator_8',\n",
       " 'creator_9',\n",
       " 'creator_10',\n",
       " 'creator_11',\n",
       " 'creator_12',\n",
       " 'creator_13',\n",
       " 'creator_14',\n",
       " 'creator_15',\n",
       " 'creator_16',\n",
       " 'creator_17',\n",
       " 'creator_18',\n",
       " 'creator_19',\n",
       " 'creator_20',\n",
       " 'creator_21',\n",
       " 'creator_22',\n",
       " 'creator_23',\n",
       " 'creator_24',\n",
       " 'creator_25',\n",
       " 'creator_26',\n",
       " 'creator_27',\n",
       " 'creator_28',\n",
       " 'creator_29',\n",
       " 'creator_30',\n",
       " 'creator_31',\n",
       " 'creator_32',\n",
       " 'creator_33',\n",
       " 'creator_34',\n",
       " 'creator_35',\n",
       " 'creator_36',\n",
       " 'creator_37',\n",
       " 'creator_38',\n",
       " 'creator_39',\n",
       " 'creator_40',\n",
       " 'creator_41',\n",
       " 'creator_42',\n",
       " 'creator_43',\n",
       " 'creator_44',\n",
       " 'creator_45',\n",
       " 'creator_46',\n",
       " 'creator_47',\n",
       " 'creator_48',\n",
       " 'creator_49',\n",
       " 'creator_50',\n",
       " 'creator_51',\n",
       " 'creator_52',\n",
       " 'creator_53',\n",
       " 'creator_54',\n",
       " 'creator_55',\n",
       " 'creator_56',\n",
       " 'creator_57',\n",
       " 'creator_58',\n",
       " 'creator_59',\n",
       " 'creator_60',\n",
       " 'creator_61',\n",
       " 'creator_62']"
      ]
     },
     "execution_count": 11,
     "metadata": {},
     "output_type": "execute_result"
    }
   ],
   "source": [
    "data_firstn.pop(0) # Function returns deleted value"
   ]
  },
  {
   "cell_type": "code",
   "execution_count": 12,
   "id": "executive-perfume",
   "metadata": {},
   "outputs": [],
   "source": [
    "# Open all names's file with base python (use this)\n",
    "with open('all_authors_allname.csv', newline = '') as file:\n",
    "    reader = csv.reader(file)\n",
    "    data_alln = list(reader)"
   ]
  },
  {
   "cell_type": "code",
   "execution_count": 13,
   "id": "underlying-carbon",
   "metadata": {},
   "outputs": [
    {
     "data": {
      "text/plain": [
       "['',\n",
       " 'id',\n",
       " 'creator_1',\n",
       " 'creator_2',\n",
       " 'creator_3',\n",
       " 'creator_4',\n",
       " 'creator_5',\n",
       " 'creator_6',\n",
       " 'creator_7',\n",
       " 'creator_8',\n",
       " 'creator_9',\n",
       " 'creator_10',\n",
       " 'creator_11',\n",
       " 'creator_12',\n",
       " 'creator_13',\n",
       " 'creator_14',\n",
       " 'creator_15',\n",
       " 'creator_16',\n",
       " 'creator_17',\n",
       " 'creator_18',\n",
       " 'creator_19',\n",
       " 'creator_20',\n",
       " 'creator_21',\n",
       " 'creator_22',\n",
       " 'creator_23',\n",
       " 'creator_24',\n",
       " 'creator_25',\n",
       " 'creator_26',\n",
       " 'creator_27',\n",
       " 'creator_28',\n",
       " 'creator_29',\n",
       " 'creator_30',\n",
       " 'creator_31',\n",
       " 'creator_32',\n",
       " 'creator_33',\n",
       " 'creator_34',\n",
       " 'creator_35',\n",
       " 'creator_36',\n",
       " 'creator_37',\n",
       " 'creator_38',\n",
       " 'creator_39',\n",
       " 'creator_40',\n",
       " 'creator_41',\n",
       " 'creator_42',\n",
       " 'creator_43',\n",
       " 'creator_44',\n",
       " 'creator_45',\n",
       " 'creator_46',\n",
       " 'creator_47',\n",
       " 'creator_48',\n",
       " 'creator_49',\n",
       " 'creator_50',\n",
       " 'creator_51',\n",
       " 'creator_52',\n",
       " 'creator_53',\n",
       " 'creator_54',\n",
       " 'creator_55',\n",
       " 'creator_56',\n",
       " 'creator_57',\n",
       " 'creator_58',\n",
       " 'creator_59',\n",
       " 'creator_60',\n",
       " 'creator_61',\n",
       " 'creator_62']"
      ]
     },
     "execution_count": 13,
     "metadata": {},
     "output_type": "execute_result"
    }
   ],
   "source": [
    "data_alln.pop(0) # Function returns deleted value"
   ]
  },
  {
   "cell_type": "markdown",
   "id": "lucky-arbor",
   "metadata": {},
   "source": [
    "### 2. Gender identification"
   ]
  },
  {
   "cell_type": "code",
   "execution_count": 14,
   "id": "heavy-catholic",
   "metadata": {},
   "outputs": [
    {
     "name": "stdout",
     "output_type": "stream",
     "text": [
      "All names: ['3', 'http://www.jstor.org/stable/29788654', 'ANDREA DOVERI', 'NA', 'NA', 'NA', 'NA', 'NA', 'NA', 'NA', 'NA', 'NA', 'NA', 'NA', 'NA', 'NA', 'NA', 'NA', 'NA', 'NA', 'NA', 'NA', 'NA', 'NA', 'NA', 'NA', 'NA', 'NA', 'NA', 'NA', 'NA', 'NA', 'NA', 'NA', 'NA', 'NA', 'NA', 'NA', 'NA', 'NA', 'NA', 'NA', 'NA', 'NA', 'NA', 'NA', 'NA', 'NA', 'NA', 'NA', 'NA', 'NA', 'NA', 'NA', 'NA', 'NA', 'NA', 'NA', 'NA', 'NA', 'NA', 'NA', 'NA', 'NA']\n",
      "First names: ['1', 'http://www.jstor.org/stable/29788654', 'ANDRE', 'NA', 'NA', 'NA', 'NA', 'NA', 'NA', 'NA', 'NA', 'NA', 'NA', 'NA', 'NA', 'NA', 'NA', 'NA', 'NA', 'NA', 'NA', 'NA', 'NA', 'NA', 'NA', 'NA', 'NA', 'NA', 'NA', 'NA', 'NA', 'NA', 'NA', 'NA', 'NA', 'NA', 'NA', 'NA', 'NA', 'NA', 'NA', 'NA', 'NA', 'NA', 'NA', 'NA', 'NA', 'NA', 'NA', 'NA', 'NA', 'NA', 'NA', 'NA', 'NA', 'NA', 'NA', 'NA', 'NA', 'NA', 'NA', 'NA', 'NA', 'NA']\n"
     ]
    }
   ],
   "source": [
    "print('All names:', data_alln[0])\n",
    "print('First names:', data_firstn[0])"
   ]
  },
  {
   "cell_type": "code",
   "execution_count": 15,
   "id": "former-eleven",
   "metadata": {},
   "outputs": [],
   "source": [
    "#data_alln_test = data_alln[0:99] - This for a sample"
   ]
  },
  {
   "cell_type": "code",
   "execution_count": 16,
   "id": "focal-remainder",
   "metadata": {},
   "outputs": [
    {
     "name": "stdout",
     "output_type": "stream",
     "text": [
      "None\n",
      "Loaded dictionary from /Users/carolinachru/Documents/LT/M498_Cap/data/genderComputer/nameLists/gender.dict\n",
      "Finished initialization\n"
     ]
    }
   ],
   "source": [
    "# P1\n",
    "gd = gender.GenderDetector()\n",
    "p1 = gd.get_gender('A').gender\n",
    "print(p1)\n",
    "\n",
    "# P2\n",
    "gc = GenderComputer()\n",
    "p2 = gc.resolveGender('A', 'None')\n",
    "p2"
   ]
  },
  {
   "cell_type": "code",
   "execution_count": null,
   "id": "numerical-oxide",
   "metadata": {},
   "outputs": [],
   "source": []
  },
  {
   "cell_type": "code",
   "execution_count": 17,
   "id": "beneficial-slide",
   "metadata": {},
   "outputs": [
    {
     "data": {
      "text/plain": [
       "['3',\n",
       " 'http://www.jstor.org/stable/29788654',\n",
       " 'ANDREA DOVERI',\n",
       " 'NA',\n",
       " 'NA',\n",
       " 'NA',\n",
       " 'NA',\n",
       " 'NA',\n",
       " 'NA',\n",
       " 'NA',\n",
       " 'NA',\n",
       " 'NA',\n",
       " 'NA',\n",
       " 'NA',\n",
       " 'NA',\n",
       " 'NA',\n",
       " 'NA',\n",
       " 'NA',\n",
       " 'NA',\n",
       " 'NA',\n",
       " 'NA',\n",
       " 'NA',\n",
       " 'NA',\n",
       " 'NA',\n",
       " 'NA',\n",
       " 'NA',\n",
       " 'NA',\n",
       " 'NA',\n",
       " 'NA',\n",
       " 'NA',\n",
       " 'NA',\n",
       " 'NA',\n",
       " 'NA',\n",
       " 'NA',\n",
       " 'NA',\n",
       " 'NA',\n",
       " 'NA',\n",
       " 'NA',\n",
       " 'NA',\n",
       " 'NA',\n",
       " 'NA',\n",
       " 'NA',\n",
       " 'NA',\n",
       " 'NA',\n",
       " 'NA',\n",
       " 'NA',\n",
       " 'NA',\n",
       " 'NA',\n",
       " 'NA',\n",
       " 'NA',\n",
       " 'NA',\n",
       " 'NA',\n",
       " 'NA',\n",
       " 'NA',\n",
       " 'NA',\n",
       " 'NA',\n",
       " 'NA',\n",
       " 'NA',\n",
       " 'NA',\n",
       " 'NA',\n",
       " 'NA',\n",
       " 'NA',\n",
       " 'NA',\n",
       " 'NA']"
      ]
     },
     "execution_count": 17,
     "metadata": {},
     "output_type": "execute_result"
    }
   ],
   "source": [
    "data_alln[0]"
   ]
  },
  {
   "cell_type": "code",
   "execution_count": 18,
   "id": "measured-equipment",
   "metadata": {},
   "outputs": [],
   "source": [
    "def extract_gender(alist):\n",
    "    '''From alist, extracts gender from column number 2.\n",
    "    Assumes structure of data is ['1', http://www.jstor.org/stable/29788654', 'ANDREA', 'NA', 'NA', ...]'''\n",
    "    # New data\n",
    "    data_alln_gender_p1 = [] \n",
    "    data_alln_gender_p2 = []\n",
    "\n",
    "    for art in alist: \n",
    "        temp1 = []\n",
    "        temp2 = []\n",
    "        \n",
    "        # Append the article's id\n",
    "        temp1.append(art[1])\n",
    "        temp2.append(art[1])\n",
    "\n",
    "        for index in list(range(2, 64)): # Just names, not id nor the first column\n",
    "            name = art[index]\n",
    "            \n",
    "            if name != 'NA' and str.isspace(name) == False:\n",
    "                gen_p1 = gd.get_gender(name).gender\n",
    "                gen_p2 = gc.resolveGender(name, 'None')\n",
    "            else:\n",
    "                gen_p1 = 'NA'\n",
    "                gen_p2 = 'NA'\n",
    "            \n",
    "            # Append to cell\n",
    "            temp1.append(gen_p1) \n",
    "            temp2.append(gen_p2)\n",
    "        \n",
    "        # Information for packages, append to row (main dataset)\n",
    "        data_alln_gender_p1.append(temp1) \n",
    "        data_alln_gender_p2.append(temp2) \n",
    "    \n",
    "    return data_alln_gender_p1, data_alln_gender_p2\n"
   ]
  },
  {
   "cell_type": "code",
   "execution_count": null,
   "id": "associate-lighting",
   "metadata": {},
   "outputs": [],
   "source": []
  },
  {
   "cell_type": "code",
   "execution_count": null,
   "id": "stupid-receiver",
   "metadata": {},
   "outputs": [],
   "source": [
    "data_gender1_alln, data_gender2_alln = extract_gender(data_alln)\n",
    "data_gender1_firstn, data_gender2_firstn = extract_gender(data_firstn)\n",
    "\n",
    "print('Extracted!')"
   ]
  },
  {
   "cell_type": "code",
   "execution_count": 18,
   "id": "involved-scene",
   "metadata": {},
   "outputs": [],
   "source": [
    "# p1 = gender; p2 = genderComputer\n",
    "np.savetxt(\"all_authors_firstn_gender_Pgender.csv\", data_gender1_firstn, delimiter=\",\", fmt='%s')\n",
    "np.savetxt(\"all_authors_firstn_gender_PgenderComputer.csv\", data_gender2_firstn, delimiter=\",\", fmt='%s')\n",
    "\n",
    "np.savetxt(\"all_authors_alln_gender_Pgender.csv\", data_gender1_alln, delimiter=\",\", fmt='%s')\n",
    "np.savetxt(\"all_authors_alln_gender_PgenderComputer.csv\", data_gender2_alln, delimiter=\",\", fmt='%s')"
   ]
  },
  {
   "cell_type": "code",
   "execution_count": 150,
   "id": "invalid-potter",
   "metadata": {},
   "outputs": [],
   "source": []
  },
  {
   "cell_type": "code",
   "execution_count": 25,
   "id": "reasonable-childhood",
   "metadata": {},
   "outputs": [],
   "source": [
    "# Open file with pandas - (desuso)\n",
    "#df0 = pd.read_csv(\"all_authors_firstname.csv\", header = None, skiprows = 1, index_col = 0)\n",
    "#print(df0[1])"
   ]
  }
 ],
 "metadata": {
  "kernelspec": {
   "display_name": "Python 3",
   "language": "python",
   "name": "python3"
  },
  "language_info": {
   "codemirror_mode": {
    "name": "ipython",
    "version": 3
   },
   "file_extension": ".py",
   "mimetype": "text/x-python",
   "name": "python",
   "nbconvert_exporter": "python",
   "pygments_lexer": "ipython3",
   "version": "3.8.5"
  }
 },
 "nbformat": 4,
 "nbformat_minor": 5
}
